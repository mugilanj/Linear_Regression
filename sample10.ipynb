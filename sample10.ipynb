{
  "nbformat": 4,
  "nbformat_minor": 0,
  "metadata": {
    "colab": {
      "provenance": [],
      "mount_file_id": "1RRoLJri_PnrOFQX4Qm3Dmsy1Atb-8fOo",
      "authorship_tag": "ABX9TyNjNIQ7TcpEBCZhu/R33rm2",
      "include_colab_link": true
    },
    "kernelspec": {
      "name": "python3",
      "display_name": "Python 3"
    },
    "language_info": {
      "name": "python"
    }
  },
  "cells": [
    {
      "cell_type": "markdown",
      "metadata": {
        "id": "view-in-github",
        "colab_type": "text"
      },
      "source": [
        "<a href=\"https://colab.research.google.com/github/mugilanj/Linear_Regression/blob/main/sample10.ipynb\" target=\"_parent\"><img src=\"https://colab.research.google.com/assets/colab-badge.svg\" alt=\"Open In Colab\"/></a>"
      ]
    },
    {
      "cell_type": "code",
      "source": [
        "import pandas as pd\n",
        "from google.colab import files\n",
        "upload = files.upload(\n",
        "\n",
        "\n",
        ")"
      ],
      "metadata": {
        "id": "COu2ytlMv_cb",
        "colab": {
          "base_uri": "https://localhost:8080/",
          "height": 128
        },
        "outputId": "c06f2df5-cbb0-43dd-e847-a700a7ce97c3"
      },
      "execution_count": null,
      "outputs": [
        {
          "output_type": "display_data",
          "data": {
            "text/plain": [
              "<IPython.core.display.HTML object>"
            ],
            "text/html": [
              "\n",
              "     <input type=\"file\" id=\"files-a0c8ae80-2826-456f-b33e-6eda8e5b87f5\" name=\"files[]\" multiple disabled\n",
              "        style=\"border:none\" />\n",
              "     <output id=\"result-a0c8ae80-2826-456f-b33e-6eda8e5b87f5\">\n",
              "      Upload widget is only available when the cell has been executed in the\n",
              "      current browser session. Please rerun this cell to enable.\n",
              "      </output>\n",
              "      <script>// Copyright 2017 Google LLC\n",
              "//\n",
              "// Licensed under the Apache License, Version 2.0 (the \"License\");\n",
              "// you may not use this file except in compliance with the License.\n",
              "// You may obtain a copy of the License at\n",
              "//\n",
              "//      http://www.apache.org/licenses/LICENSE-2.0\n",
              "//\n",
              "// Unless required by applicable law or agreed to in writing, software\n",
              "// distributed under the License is distributed on an \"AS IS\" BASIS,\n",
              "// WITHOUT WARRANTIES OR CONDITIONS OF ANY KIND, either express or implied.\n",
              "// See the License for the specific language governing permissions and\n",
              "// limitations under the License.\n",
              "\n",
              "/**\n",
              " * @fileoverview Helpers for google.colab Python module.\n",
              " */\n",
              "(function(scope) {\n",
              "function span(text, styleAttributes = {}) {\n",
              "  const element = document.createElement('span');\n",
              "  element.textContent = text;\n",
              "  for (const key of Object.keys(styleAttributes)) {\n",
              "    element.style[key] = styleAttributes[key];\n",
              "  }\n",
              "  return element;\n",
              "}\n",
              "\n",
              "// Max number of bytes which will be uploaded at a time.\n",
              "const MAX_PAYLOAD_SIZE = 100 * 1024;\n",
              "\n",
              "function _uploadFiles(inputId, outputId) {\n",
              "  const steps = uploadFilesStep(inputId, outputId);\n",
              "  const outputElement = document.getElementById(outputId);\n",
              "  // Cache steps on the outputElement to make it available for the next call\n",
              "  // to uploadFilesContinue from Python.\n",
              "  outputElement.steps = steps;\n",
              "\n",
              "  return _uploadFilesContinue(outputId);\n",
              "}\n",
              "\n",
              "// This is roughly an async generator (not supported in the browser yet),\n",
              "// where there are multiple asynchronous steps and the Python side is going\n",
              "// to poll for completion of each step.\n",
              "// This uses a Promise to block the python side on completion of each step,\n",
              "// then passes the result of the previous step as the input to the next step.\n",
              "function _uploadFilesContinue(outputId) {\n",
              "  const outputElement = document.getElementById(outputId);\n",
              "  const steps = outputElement.steps;\n",
              "\n",
              "  const next = steps.next(outputElement.lastPromiseValue);\n",
              "  return Promise.resolve(next.value.promise).then((value) => {\n",
              "    // Cache the last promise value to make it available to the next\n",
              "    // step of the generator.\n",
              "    outputElement.lastPromiseValue = value;\n",
              "    return next.value.response;\n",
              "  });\n",
              "}\n",
              "\n",
              "/**\n",
              " * Generator function which is called between each async step of the upload\n",
              " * process.\n",
              " * @param {string} inputId Element ID of the input file picker element.\n",
              " * @param {string} outputId Element ID of the output display.\n",
              " * @return {!Iterable<!Object>} Iterable of next steps.\n",
              " */\n",
              "function* uploadFilesStep(inputId, outputId) {\n",
              "  const inputElement = document.getElementById(inputId);\n",
              "  inputElement.disabled = false;\n",
              "\n",
              "  const outputElement = document.getElementById(outputId);\n",
              "  outputElement.innerHTML = '';\n",
              "\n",
              "  const pickedPromise = new Promise((resolve) => {\n",
              "    inputElement.addEventListener('change', (e) => {\n",
              "      resolve(e.target.files);\n",
              "    });\n",
              "  });\n",
              "\n",
              "  const cancel = document.createElement('button');\n",
              "  inputElement.parentElement.appendChild(cancel);\n",
              "  cancel.textContent = 'Cancel upload';\n",
              "  const cancelPromise = new Promise((resolve) => {\n",
              "    cancel.onclick = () => {\n",
              "      resolve(null);\n",
              "    };\n",
              "  });\n",
              "\n",
              "  // Wait for the user to pick the files.\n",
              "  const files = yield {\n",
              "    promise: Promise.race([pickedPromise, cancelPromise]),\n",
              "    response: {\n",
              "      action: 'starting',\n",
              "    }\n",
              "  };\n",
              "\n",
              "  cancel.remove();\n",
              "\n",
              "  // Disable the input element since further picks are not allowed.\n",
              "  inputElement.disabled = true;\n",
              "\n",
              "  if (!files) {\n",
              "    return {\n",
              "      response: {\n",
              "        action: 'complete',\n",
              "      }\n",
              "    };\n",
              "  }\n",
              "\n",
              "  for (const file of files) {\n",
              "    const li = document.createElement('li');\n",
              "    li.append(span(file.name, {fontWeight: 'bold'}));\n",
              "    li.append(span(\n",
              "        `(${file.type || 'n/a'}) - ${file.size} bytes, ` +\n",
              "        `last modified: ${\n",
              "            file.lastModifiedDate ? file.lastModifiedDate.toLocaleDateString() :\n",
              "                                    'n/a'} - `));\n",
              "    const percent = span('0% done');\n",
              "    li.appendChild(percent);\n",
              "\n",
              "    outputElement.appendChild(li);\n",
              "\n",
              "    const fileDataPromise = new Promise((resolve) => {\n",
              "      const reader = new FileReader();\n",
              "      reader.onload = (e) => {\n",
              "        resolve(e.target.result);\n",
              "      };\n",
              "      reader.readAsArrayBuffer(file);\n",
              "    });\n",
              "    // Wait for the data to be ready.\n",
              "    let fileData = yield {\n",
              "      promise: fileDataPromise,\n",
              "      response: {\n",
              "        action: 'continue',\n",
              "      }\n",
              "    };\n",
              "\n",
              "    // Use a chunked sending to avoid message size limits. See b/62115660.\n",
              "    let position = 0;\n",
              "    do {\n",
              "      const length = Math.min(fileData.byteLength - position, MAX_PAYLOAD_SIZE);\n",
              "      const chunk = new Uint8Array(fileData, position, length);\n",
              "      position += length;\n",
              "\n",
              "      const base64 = btoa(String.fromCharCode.apply(null, chunk));\n",
              "      yield {\n",
              "        response: {\n",
              "          action: 'append',\n",
              "          file: file.name,\n",
              "          data: base64,\n",
              "        },\n",
              "      };\n",
              "\n",
              "      let percentDone = fileData.byteLength === 0 ?\n",
              "          100 :\n",
              "          Math.round((position / fileData.byteLength) * 100);\n",
              "      percent.textContent = `${percentDone}% done`;\n",
              "\n",
              "    } while (position < fileData.byteLength);\n",
              "  }\n",
              "\n",
              "  // All done.\n",
              "  yield {\n",
              "    response: {\n",
              "      action: 'complete',\n",
              "    }\n",
              "  };\n",
              "}\n",
              "\n",
              "scope.google = scope.google || {};\n",
              "scope.google.colab = scope.google.colab || {};\n",
              "scope.google.colab._files = {\n",
              "  _uploadFiles,\n",
              "  _uploadFilesContinue,\n",
              "};\n",
              "})(self);\n",
              "</script> "
            ]
          },
          "metadata": {}
        },
        {
          "output_type": "stream",
          "name": "stdout",
          "text": [
            "Saving Mess_DataSet4.csv to Mess_DataSet4 (1).csv\n"
          ]
        }
      ]
    },
    {
      "cell_type": "code",
      "source": [
        "df=pd.read_csv(\"Mess_DataSet4.csv\")"
      ],
      "metadata": {
        "id": "uVxbJFzZ7QyP"
      },
      "execution_count": null,
      "outputs": []
    },
    {
      "cell_type": "code",
      "source": [
        "df"
      ],
      "metadata": {
        "colab": {
          "base_uri": "https://localhost:8080/",
          "height": 843
        },
        "id": "5GEuyV_l7fKO",
        "outputId": "80f44b7b-177a-4752-f6b3-9ab4a6ba99d0"
      },
      "execution_count": null,
      "outputs": [
        {
          "output_type": "execute_result",
          "data": {
            "text/plain": [
              "                         Timest p  Registration Number (Optional)  \\\n",
              "0   2023/10/14 6.01.13   GMT+5.30                             NaN   \n",
              "1   2023/10/14 6.01.29   GMT+5.30                             NaN   \n",
              "2   2023/10/14 6.06.08   GMT+5.30                             NaN   \n",
              "3   2023/10/14 6.11.00   GMT+5.30                             NaN   \n",
              "4   2023/10/14 6.11.18   GMT+5.30                             NaN   \n",
              "..                            ...                             ...   \n",
              "61  2023/10/15 4.54.07   GMT+5.30                             NaN   \n",
              "62  2023/10/15 7.12.57   GMT+5.30                             NaN   \n",
              "63  2023/10/15 8.18.20   GMT+5.30                             NaN   \n",
              "64  2023/10/15 9.46.47   GMT+5.30                             NaN   \n",
              "65  2023/10/15 3.40.20   GMT+5.30                             NaN   \n",
              "\n",
              "   Day ( Only Today) Exit Time.(Night  ) Entrance Time. (Night  )  \n",
              "0           Saturday           8.30.00                  8.00.00    \n",
              "1           Saturday           7.55.00                  7.30.00    \n",
              "2           Saturday           8.00.00                  7.00.00    \n",
              "3             Monday           7.20.00                  7.00.00    \n",
              "4            Tuesday           7.20.00                  7.00.00    \n",
              "..               ...                 ...                      ...  \n",
              "61          Saturday           8.05.00                  7.45.00    \n",
              "62            Sunday           7.50.00                  7.20.00    \n",
              "63            Sunday           9.00.00                  7.00.00    \n",
              "64          Saturday           7.18.00                  8.00.00    \n",
              "65            Sunday           8.00.00                  7.30.00    \n",
              "\n",
              "[66 rows x 5 columns]"
            ],
            "text/html": [
              "\n",
              "  <div id=\"df-10c75875-fe80-4d9d-a347-419d84d54022\" class=\"colab-df-container\">\n",
              "    <div>\n",
              "<style scoped>\n",
              "    .dataframe tbody tr th:only-of-type {\n",
              "        vertical-align: middle;\n",
              "    }\n",
              "\n",
              "    .dataframe tbody tr th {\n",
              "        vertical-align: top;\n",
              "    }\n",
              "\n",
              "    .dataframe thead th {\n",
              "        text-align: right;\n",
              "    }\n",
              "</style>\n",
              "<table border=\"1\" class=\"dataframe\">\n",
              "  <thead>\n",
              "    <tr style=\"text-align: right;\">\n",
              "      <th></th>\n",
              "      <th>Timest p</th>\n",
              "      <th>Registration Number (Optional)</th>\n",
              "      <th>Day ( Only Today)</th>\n",
              "      <th>Exit Time.(Night  )</th>\n",
              "      <th>Entrance Time. (Night  )</th>\n",
              "    </tr>\n",
              "  </thead>\n",
              "  <tbody>\n",
              "    <tr>\n",
              "      <th>0</th>\n",
              "      <td>2023/10/14 6.01.13   GMT+5.30</td>\n",
              "      <td>NaN</td>\n",
              "      <td>Saturday</td>\n",
              "      <td>8.30.00</td>\n",
              "      <td>8.00.00</td>\n",
              "    </tr>\n",
              "    <tr>\n",
              "      <th>1</th>\n",
              "      <td>2023/10/14 6.01.29   GMT+5.30</td>\n",
              "      <td>NaN</td>\n",
              "      <td>Saturday</td>\n",
              "      <td>7.55.00</td>\n",
              "      <td>7.30.00</td>\n",
              "    </tr>\n",
              "    <tr>\n",
              "      <th>2</th>\n",
              "      <td>2023/10/14 6.06.08   GMT+5.30</td>\n",
              "      <td>NaN</td>\n",
              "      <td>Saturday</td>\n",
              "      <td>8.00.00</td>\n",
              "      <td>7.00.00</td>\n",
              "    </tr>\n",
              "    <tr>\n",
              "      <th>3</th>\n",
              "      <td>2023/10/14 6.11.00   GMT+5.30</td>\n",
              "      <td>NaN</td>\n",
              "      <td>Monday</td>\n",
              "      <td>7.20.00</td>\n",
              "      <td>7.00.00</td>\n",
              "    </tr>\n",
              "    <tr>\n",
              "      <th>4</th>\n",
              "      <td>2023/10/14 6.11.18   GMT+5.30</td>\n",
              "      <td>NaN</td>\n",
              "      <td>Tuesday</td>\n",
              "      <td>7.20.00</td>\n",
              "      <td>7.00.00</td>\n",
              "    </tr>\n",
              "    <tr>\n",
              "      <th>...</th>\n",
              "      <td>...</td>\n",
              "      <td>...</td>\n",
              "      <td>...</td>\n",
              "      <td>...</td>\n",
              "      <td>...</td>\n",
              "    </tr>\n",
              "    <tr>\n",
              "      <th>61</th>\n",
              "      <td>2023/10/15 4.54.07   GMT+5.30</td>\n",
              "      <td>NaN</td>\n",
              "      <td>Saturday</td>\n",
              "      <td>8.05.00</td>\n",
              "      <td>7.45.00</td>\n",
              "    </tr>\n",
              "    <tr>\n",
              "      <th>62</th>\n",
              "      <td>2023/10/15 7.12.57   GMT+5.30</td>\n",
              "      <td>NaN</td>\n",
              "      <td>Sunday</td>\n",
              "      <td>7.50.00</td>\n",
              "      <td>7.20.00</td>\n",
              "    </tr>\n",
              "    <tr>\n",
              "      <th>63</th>\n",
              "      <td>2023/10/15 8.18.20   GMT+5.30</td>\n",
              "      <td>NaN</td>\n",
              "      <td>Sunday</td>\n",
              "      <td>9.00.00</td>\n",
              "      <td>7.00.00</td>\n",
              "    </tr>\n",
              "    <tr>\n",
              "      <th>64</th>\n",
              "      <td>2023/10/15 9.46.47   GMT+5.30</td>\n",
              "      <td>NaN</td>\n",
              "      <td>Saturday</td>\n",
              "      <td>7.18.00</td>\n",
              "      <td>8.00.00</td>\n",
              "    </tr>\n",
              "    <tr>\n",
              "      <th>65</th>\n",
              "      <td>2023/10/15 3.40.20   GMT+5.30</td>\n",
              "      <td>NaN</td>\n",
              "      <td>Sunday</td>\n",
              "      <td>8.00.00</td>\n",
              "      <td>7.30.00</td>\n",
              "    </tr>\n",
              "  </tbody>\n",
              "</table>\n",
              "<p>66 rows × 5 columns</p>\n",
              "</div>\n",
              "    <div class=\"colab-df-buttons\">\n",
              "\n",
              "  <div class=\"colab-df-container\">\n",
              "    <button class=\"colab-df-convert\" onclick=\"convertToInteractive('df-10c75875-fe80-4d9d-a347-419d84d54022')\"\n",
              "            title=\"Convert this dataframe to an interactive table.\"\n",
              "            style=\"display:none;\">\n",
              "\n",
              "  <svg xmlns=\"http://www.w3.org/2000/svg\" height=\"24px\" viewBox=\"0 -960 960 960\">\n",
              "    <path d=\"M120-120v-720h720v720H120Zm60-500h600v-160H180v160Zm220 220h160v-160H400v160Zm0 220h160v-160H400v160ZM180-400h160v-160H180v160Zm440 0h160v-160H620v160ZM180-180h160v-160H180v160Zm440 0h160v-160H620v160Z\"/>\n",
              "  </svg>\n",
              "    </button>\n",
              "\n",
              "  <style>\n",
              "    .colab-df-container {\n",
              "      display:flex;\n",
              "      gap: 12px;\n",
              "    }\n",
              "\n",
              "    .colab-df-convert {\n",
              "      background-color: #E8F0FE;\n",
              "      border: none;\n",
              "      border-radius: 50%;\n",
              "      cursor: pointer;\n",
              "      display: none;\n",
              "      fill: #1967D2;\n",
              "      height: 32px;\n",
              "      padding: 0 0 0 0;\n",
              "      width: 32px;\n",
              "    }\n",
              "\n",
              "    .colab-df-convert:hover {\n",
              "      background-color: #E2EBFA;\n",
              "      box-shadow: 0px 1px 2px rgba(60, 64, 67, 0.3), 0px 1px 3px 1px rgba(60, 64, 67, 0.15);\n",
              "      fill: #174EA6;\n",
              "    }\n",
              "\n",
              "    .colab-df-buttons div {\n",
              "      margin-bottom: 4px;\n",
              "    }\n",
              "\n",
              "    [theme=dark] .colab-df-convert {\n",
              "      background-color: #3B4455;\n",
              "      fill: #D2E3FC;\n",
              "    }\n",
              "\n",
              "    [theme=dark] .colab-df-convert:hover {\n",
              "      background-color: #434B5C;\n",
              "      box-shadow: 0px 1px 3px 1px rgba(0, 0, 0, 0.15);\n",
              "      filter: drop-shadow(0px 1px 2px rgba(0, 0, 0, 0.3));\n",
              "      fill: #FFFFFF;\n",
              "    }\n",
              "  </style>\n",
              "\n",
              "    <script>\n",
              "      const buttonEl =\n",
              "        document.querySelector('#df-10c75875-fe80-4d9d-a347-419d84d54022 button.colab-df-convert');\n",
              "      buttonEl.style.display =\n",
              "        google.colab.kernel.accessAllowed ? 'block' : 'none';\n",
              "\n",
              "      async function convertToInteractive(key) {\n",
              "        const element = document.querySelector('#df-10c75875-fe80-4d9d-a347-419d84d54022');\n",
              "        const dataTable =\n",
              "          await google.colab.kernel.invokeFunction('convertToInteractive',\n",
              "                                                    [key], {});\n",
              "        if (!dataTable) return;\n",
              "\n",
              "        const docLinkHtml = 'Like what you see? Visit the ' +\n",
              "          '<a target=\"_blank\" href=https://colab.research.google.com/notebooks/data_table.ipynb>data table notebook</a>'\n",
              "          + ' to learn more about interactive tables.';\n",
              "        element.innerHTML = '';\n",
              "        dataTable['output_type'] = 'display_data';\n",
              "        await google.colab.output.renderOutput(dataTable, element);\n",
              "        const docLink = document.createElement('div');\n",
              "        docLink.innerHTML = docLinkHtml;\n",
              "        element.appendChild(docLink);\n",
              "      }\n",
              "    </script>\n",
              "  </div>\n",
              "\n",
              "\n",
              "<div id=\"df-d79ffacf-2600-4008-aa49-e0ea35689eb8\">\n",
              "  <button class=\"colab-df-quickchart\" onclick=\"quickchart('df-d79ffacf-2600-4008-aa49-e0ea35689eb8')\"\n",
              "            title=\"Suggest charts.\"\n",
              "            style=\"display:none;\">\n",
              "\n",
              "<svg xmlns=\"http://www.w3.org/2000/svg\" height=\"24px\"viewBox=\"0 0 24 24\"\n",
              "     width=\"24px\">\n",
              "    <g>\n",
              "        <path d=\"M19 3H5c-1.1 0-2 .9-2 2v14c0 1.1.9 2 2 2h14c1.1 0 2-.9 2-2V5c0-1.1-.9-2-2-2zM9 17H7v-7h2v7zm4 0h-2V7h2v10zm4 0h-2v-4h2v4z\"/>\n",
              "    </g>\n",
              "</svg>\n",
              "  </button>\n",
              "\n",
              "<style>\n",
              "  .colab-df-quickchart {\n",
              "      --bg-color: #E8F0FE;\n",
              "      --fill-color: #1967D2;\n",
              "      --hover-bg-color: #E2EBFA;\n",
              "      --hover-fill-color: #174EA6;\n",
              "      --disabled-fill-color: #AAA;\n",
              "      --disabled-bg-color: #DDD;\n",
              "  }\n",
              "\n",
              "  [theme=dark] .colab-df-quickchart {\n",
              "      --bg-color: #3B4455;\n",
              "      --fill-color: #D2E3FC;\n",
              "      --hover-bg-color: #434B5C;\n",
              "      --hover-fill-color: #FFFFFF;\n",
              "      --disabled-bg-color: #3B4455;\n",
              "      --disabled-fill-color: #666;\n",
              "  }\n",
              "\n",
              "  .colab-df-quickchart {\n",
              "    background-color: var(--bg-color);\n",
              "    border: none;\n",
              "    border-radius: 50%;\n",
              "    cursor: pointer;\n",
              "    display: none;\n",
              "    fill: var(--fill-color);\n",
              "    height: 32px;\n",
              "    padding: 0;\n",
              "    width: 32px;\n",
              "  }\n",
              "\n",
              "  .colab-df-quickchart:hover {\n",
              "    background-color: var(--hover-bg-color);\n",
              "    box-shadow: 0 1px 2px rgba(60, 64, 67, 0.3), 0 1px 3px 1px rgba(60, 64, 67, 0.15);\n",
              "    fill: var(--button-hover-fill-color);\n",
              "  }\n",
              "\n",
              "  .colab-df-quickchart-complete:disabled,\n",
              "  .colab-df-quickchart-complete:disabled:hover {\n",
              "    background-color: var(--disabled-bg-color);\n",
              "    fill: var(--disabled-fill-color);\n",
              "    box-shadow: none;\n",
              "  }\n",
              "\n",
              "  .colab-df-spinner {\n",
              "    border: 2px solid var(--fill-color);\n",
              "    border-color: transparent;\n",
              "    border-bottom-color: var(--fill-color);\n",
              "    animation:\n",
              "      spin 1s steps(1) infinite;\n",
              "  }\n",
              "\n",
              "  @keyframes spin {\n",
              "    0% {\n",
              "      border-color: transparent;\n",
              "      border-bottom-color: var(--fill-color);\n",
              "      border-left-color: var(--fill-color);\n",
              "    }\n",
              "    20% {\n",
              "      border-color: transparent;\n",
              "      border-left-color: var(--fill-color);\n",
              "      border-top-color: var(--fill-color);\n",
              "    }\n",
              "    30% {\n",
              "      border-color: transparent;\n",
              "      border-left-color: var(--fill-color);\n",
              "      border-top-color: var(--fill-color);\n",
              "      border-right-color: var(--fill-color);\n",
              "    }\n",
              "    40% {\n",
              "      border-color: transparent;\n",
              "      border-right-color: var(--fill-color);\n",
              "      border-top-color: var(--fill-color);\n",
              "    }\n",
              "    60% {\n",
              "      border-color: transparent;\n",
              "      border-right-color: var(--fill-color);\n",
              "    }\n",
              "    80% {\n",
              "      border-color: transparent;\n",
              "      border-right-color: var(--fill-color);\n",
              "      border-bottom-color: var(--fill-color);\n",
              "    }\n",
              "    90% {\n",
              "      border-color: transparent;\n",
              "      border-bottom-color: var(--fill-color);\n",
              "    }\n",
              "  }\n",
              "</style>\n",
              "\n",
              "  <script>\n",
              "    async function quickchart(key) {\n",
              "      const quickchartButtonEl =\n",
              "        document.querySelector('#' + key + ' button');\n",
              "      quickchartButtonEl.disabled = true;  // To prevent multiple clicks.\n",
              "      quickchartButtonEl.classList.add('colab-df-spinner');\n",
              "      try {\n",
              "        const charts = await google.colab.kernel.invokeFunction(\n",
              "            'suggestCharts', [key], {});\n",
              "      } catch (error) {\n",
              "        console.error('Error during call to suggestCharts:', error);\n",
              "      }\n",
              "      quickchartButtonEl.classList.remove('colab-df-spinner');\n",
              "      quickchartButtonEl.classList.add('colab-df-quickchart-complete');\n",
              "    }\n",
              "    (() => {\n",
              "      let quickchartButtonEl =\n",
              "        document.querySelector('#df-d79ffacf-2600-4008-aa49-e0ea35689eb8 button');\n",
              "      quickchartButtonEl.style.display =\n",
              "        google.colab.kernel.accessAllowed ? 'block' : 'none';\n",
              "    })();\n",
              "  </script>\n",
              "</div>\n",
              "    </div>\n",
              "  </div>\n"
            ]
          },
          "metadata": {},
          "execution_count": 205
        }
      ]
    },
    {
      "cell_type": "code",
      "source": [
        "et=df.iloc[:,-1].tolist()"
      ],
      "metadata": {
        "id": "7O3UkjV57i3f"
      },
      "execution_count": null,
      "outputs": []
    },
    {
      "cell_type": "code",
      "source": [
        "et"
      ],
      "metadata": {
        "colab": {
          "base_uri": "https://localhost:8080/"
        },
        "id": "diMBHMWI7pGh",
        "outputId": "685b2b31-3503-4a94-f298-7b31bb0a9399"
      },
      "execution_count": null,
      "outputs": [
        {
          "output_type": "execute_result",
          "data": {
            "text/plain": [
              "['8.00.00  ',\n",
              " '7.30.00  ',\n",
              " '7.00.00  ',\n",
              " '7.00.00  ',\n",
              " '7.00.00  ',\n",
              " '7.00.00  ',\n",
              " '7.00.00  ',\n",
              " '7.00.00  ',\n",
              " '7.00.00  ',\n",
              " '7.00.00  ',\n",
              " '7.30.00  ',\n",
              " '7.15.00  ',\n",
              " '7.40.00  ',\n",
              " '7.40.00  ',\n",
              " '7.00.00  ',\n",
              " '7.40.00  ',\n",
              " '7.15.00  ',\n",
              " '7.10.00  ',\n",
              " '7.30.00  ',\n",
              " '7.15.00  ',\n",
              " '7.00.00  ',\n",
              " '7.15.00  ',\n",
              " '7.05.00  ',\n",
              " '7.09.00  ',\n",
              " '7.07.00  ',\n",
              " '8.45.00  ',\n",
              " '7.34.00  ',\n",
              " '7.42.00  ',\n",
              " '7.00.00  ',\n",
              " '7.00.00  ',\n",
              " '7.00.00  ',\n",
              " '7.50.00  ',\n",
              " '8.21.00  ',\n",
              " '7.30.00  ',\n",
              " '8.00.00  ',\n",
              " '7.15.00  ',\n",
              " '7.30.00  ',\n",
              " '7.10.00  ',\n",
              " '7.30.00  ',\n",
              " '8.30.00  ',\n",
              " '8.30.00  ',\n",
              " '7.45.00  ',\n",
              " '8.00.00  ',\n",
              " '6.55.00  ',\n",
              " '7.10.00  ',\n",
              " '8.00.00  ',\n",
              " '8.00.00  ',\n",
              " '7.25.00  ',\n",
              " '7.30.00  ',\n",
              " '7.00.00  ',\n",
              " '7.00.00  ',\n",
              " '7.30.00  ',\n",
              " '7.00.00  ',\n",
              " '8.25.00  ',\n",
              " '7.00.00  ',\n",
              " '7.00.00  ',\n",
              " '7.00.00  ',\n",
              " '7.00.00  ',\n",
              " '8.30.00  ',\n",
              " '8.36.00  ',\n",
              " '7.15.00  ',\n",
              " '7.45.00  ',\n",
              " '7.20.00  ',\n",
              " '7.00.00  ',\n",
              " '8.00.00  ',\n",
              " '7.30.00  ']"
            ]
          },
          "metadata": {},
          "execution_count": 208
        }
      ]
    },
    {
      "cell_type": "code",
      "source": [
        "etime=[]"
      ],
      "metadata": {
        "id": "j32-DWgdDJV3"
      },
      "execution_count": null,
      "outputs": []
    },
    {
      "cell_type": "code",
      "source": [
        "\n",
        "for i in et:\n",
        "  a=i.strip()\n",
        "  a=a[0:-3]\n",
        "  etime.append(round(float(a),2))"
      ],
      "metadata": {
        "id": "snTYota1DTwm"
      },
      "execution_count": null,
      "outputs": []
    },
    {
      "cell_type": "code",
      "source": [
        "etime"
      ],
      "metadata": {
        "colab": {
          "base_uri": "https://localhost:8080/"
        },
        "id": "RNmuOcRfHcwN",
        "outputId": "e6696777-567a-44a2-9ed5-29022322c31e"
      },
      "execution_count": null,
      "outputs": [
        {
          "output_type": "execute_result",
          "data": {
            "text/plain": [
              "[8.0,\n",
              " 7.3,\n",
              " 7.0,\n",
              " 7.0,\n",
              " 7.0,\n",
              " 7.0,\n",
              " 7.0,\n",
              " 7.0,\n",
              " 7.0,\n",
              " 7.0,\n",
              " 7.3,\n",
              " 7.15,\n",
              " 7.4,\n",
              " 7.4,\n",
              " 7.0,\n",
              " 7.4,\n",
              " 7.15,\n",
              " 7.1,\n",
              " 7.3,\n",
              " 7.15,\n",
              " 7.0,\n",
              " 7.15,\n",
              " 7.05,\n",
              " 7.09,\n",
              " 7.07,\n",
              " 8.45,\n",
              " 7.34,\n",
              " 7.42,\n",
              " 7.0,\n",
              " 7.0,\n",
              " 7.0,\n",
              " 7.5,\n",
              " 8.21,\n",
              " 7.3,\n",
              " 8.0,\n",
              " 7.15,\n",
              " 7.3,\n",
              " 7.1,\n",
              " 7.3,\n",
              " 8.3,\n",
              " 8.3,\n",
              " 7.45,\n",
              " 8.0,\n",
              " 6.55,\n",
              " 7.1,\n",
              " 8.0,\n",
              " 8.0,\n",
              " 7.25,\n",
              " 7.3,\n",
              " 7.0,\n",
              " 7.0,\n",
              " 7.3,\n",
              " 7.0,\n",
              " 8.25,\n",
              " 7.0,\n",
              " 7.0,\n",
              " 7.0,\n",
              " 7.0,\n",
              " 8.3,\n",
              " 8.36,\n",
              " 7.15,\n",
              " 7.45,\n",
              " 7.2,\n",
              " 7.0,\n",
              " 8.0,\n",
              " 7.3]"
            ]
          },
          "metadata": {},
          "execution_count": 211
        }
      ]
    },
    {
      "cell_type": "code",
      "source": [
        "exit_t=df.iloc[:,-2].tolist()"
      ],
      "metadata": {
        "id": "7X53gtVPLpxk"
      },
      "execution_count": null,
      "outputs": []
    },
    {
      "cell_type": "code",
      "source": [
        "exit_t"
      ],
      "metadata": {
        "colab": {
          "base_uri": "https://localhost:8080/"
        },
        "id": "Zx5uMnGAL7uE",
        "outputId": "66dd68d5-7004-4823-f3a7-e1c894362a39"
      },
      "execution_count": null,
      "outputs": [
        {
          "output_type": "execute_result",
          "data": {
            "text/plain": [
              "['8.30.00  ',\n",
              " '7.55.00  ',\n",
              " '8.00.00  ',\n",
              " '7.20.00  ',\n",
              " '7.20.00  ',\n",
              " '7.20.00  ',\n",
              " '7.20.00  ',\n",
              " '7.30.00  ',\n",
              " '7.30.00  ',\n",
              " '7.30.00  ',\n",
              " '7.45.00  ',\n",
              " '7.45.00  ',\n",
              " '7.55.00  ',\n",
              " '8.10.00  ',\n",
              " '9.30.00  ',\n",
              " '8.00.00  ',\n",
              " '7.35.00  ',\n",
              " '7.40.00  ',\n",
              " '7.45.00  ',\n",
              " '8.00.00  ',\n",
              " '7.30.00  ',\n",
              " '8.00.00  ',\n",
              " '7.30.00  ',\n",
              " '7.25.00  ',\n",
              " '7.26.00  ',\n",
              " '9.15.00  ',\n",
              " '7.45.00  ',\n",
              " '7.10.00  ',\n",
              " '7.15.00  ',\n",
              " '7.15.00  ',\n",
              " '7.25.00  ',\n",
              " '7.15.00  ',\n",
              " '7.48.00  ',\n",
              " '8.00.00  ',\n",
              " '7.30.00  ',\n",
              " '7.45.00  ',\n",
              " '8.00.00  ',\n",
              " '7.30.00  ',\n",
              " '8.30.00  ',\n",
              " '9.30.00  ',\n",
              " '7.30.00  ',\n",
              " '9.00.00  ',\n",
              " '8.30.00  ',\n",
              " '7.20.00  ',\n",
              " '7.45.00  ',\n",
              " '8.30.00  ',\n",
              " '8.45.00  ',\n",
              " '7.00.00  ',\n",
              " '8.30.00  ',\n",
              " '8.00.00  ',\n",
              " '7.25.00  ',\n",
              " '7.00.00  ',\n",
              " '7.30.00  ',\n",
              " '8.05.00  ',\n",
              " '7.00.00  ',\n",
              " '7.50.00  ',\n",
              " '8.00.00  ',\n",
              " '7.30.00  ',\n",
              " '7.30.00  ',\n",
              " '10.33.00  ',\n",
              " '7.40.00  ',\n",
              " '8.05.00  ',\n",
              " '7.50.00  ',\n",
              " '9.00.00  ',\n",
              " '7.18.00  ',\n",
              " '8.00.00  ']"
            ]
          },
          "metadata": {},
          "execution_count": 213
        }
      ]
    },
    {
      "cell_type": "code",
      "source": [
        "exit_time=[]"
      ],
      "metadata": {
        "id": "dvYKBaAFMAOE"
      },
      "execution_count": null,
      "outputs": []
    },
    {
      "cell_type": "code",
      "source": [
        "for i in exit_t:\n",
        "  b=i.strip()\n",
        "  b=b[0:-3]\n",
        "  exit_time.append(round(float(b),2))"
      ],
      "metadata": {
        "id": "IePzKET1Mfwt"
      },
      "execution_count": null,
      "outputs": []
    },
    {
      "cell_type": "code",
      "source": [
        "exit_time"
      ],
      "metadata": {
        "colab": {
          "base_uri": "https://localhost:8080/"
        },
        "id": "6FNzCf9AMOwN",
        "outputId": "2c993014-8f3e-4049-a1c8-7bcbbc871d1b"
      },
      "execution_count": null,
      "outputs": [
        {
          "output_type": "execute_result",
          "data": {
            "text/plain": [
              "[8.3,\n",
              " 7.55,\n",
              " 8.0,\n",
              " 7.2,\n",
              " 7.2,\n",
              " 7.2,\n",
              " 7.2,\n",
              " 7.3,\n",
              " 7.3,\n",
              " 7.3,\n",
              " 7.45,\n",
              " 7.45,\n",
              " 7.55,\n",
              " 8.1,\n",
              " 9.3,\n",
              " 8.0,\n",
              " 7.35,\n",
              " 7.4,\n",
              " 7.45,\n",
              " 8.0,\n",
              " 7.3,\n",
              " 8.0,\n",
              " 7.3,\n",
              " 7.25,\n",
              " 7.26,\n",
              " 9.15,\n",
              " 7.45,\n",
              " 7.1,\n",
              " 7.15,\n",
              " 7.15,\n",
              " 7.25,\n",
              " 7.15,\n",
              " 7.48,\n",
              " 8.0,\n",
              " 7.3,\n",
              " 7.45,\n",
              " 8.0,\n",
              " 7.3,\n",
              " 8.3,\n",
              " 9.3,\n",
              " 7.3,\n",
              " 9.0,\n",
              " 8.3,\n",
              " 7.2,\n",
              " 7.45,\n",
              " 8.3,\n",
              " 8.45,\n",
              " 7.0,\n",
              " 8.3,\n",
              " 8.0,\n",
              " 7.25,\n",
              " 7.0,\n",
              " 7.3,\n",
              " 8.05,\n",
              " 7.0,\n",
              " 7.5,\n",
              " 8.0,\n",
              " 7.3,\n",
              " 7.3,\n",
              " 10.33,\n",
              " 7.4,\n",
              " 8.05,\n",
              " 7.5,\n",
              " 9.0,\n",
              " 7.18,\n",
              " 8.0]"
            ]
          },
          "metadata": {},
          "execution_count": 217
        }
      ]
    },
    {
      "cell_type": "code",
      "source": [
        "print(d.to_string())"
      ],
      "metadata": {
        "colab": {
          "base_uri": "https://localhost:8080/"
        },
        "id": "qttACORPL_O9",
        "outputId": "c27f1009-37d5-4549-9483-eb27c3ce3f26"
      },
      "execution_count": null,
      "outputs": [
        {
          "output_type": "stream",
          "name": "stdout",
          "text": [
            "    Entrance_time  Exit_time\n",
            "0            8.00       8.30\n",
            "1            7.30       7.55\n",
            "2            7.00       8.00\n",
            "3            7.00       7.20\n",
            "4            7.00       7.20\n",
            "5            7.00       7.20\n",
            "6            7.00       7.20\n",
            "7            7.00       7.30\n",
            "8            7.00       7.30\n",
            "9            7.00       7.30\n",
            "10           7.30       7.45\n",
            "11           7.15       7.45\n",
            "12           7.40       7.55\n",
            "13           7.40       8.10\n",
            "14           7.00       9.30\n",
            "15           7.40       8.00\n",
            "16           7.15       7.35\n",
            "17           7.10       7.40\n",
            "18           7.30       7.45\n",
            "19           7.15       8.00\n",
            "20           7.00       7.30\n",
            "21           7.15       8.00\n",
            "22           7.05       7.30\n",
            "23           7.09       7.25\n",
            "24           7.07       7.26\n",
            "25           8.45       9.15\n",
            "26           7.34       7.45\n",
            "27           7.42       7.10\n",
            "28           7.00       7.15\n",
            "29           7.00       7.15\n",
            "30           7.00       7.25\n",
            "31           7.50       7.15\n",
            "32           8.21       7.48\n",
            "33           7.30       8.00\n",
            "34           8.00       7.30\n",
            "35           7.15       7.45\n",
            "36           7.30       8.00\n",
            "37           7.10       7.30\n",
            "38           7.30       8.30\n",
            "39           8.30       9.30\n",
            "40           8.30       7.30\n",
            "41           7.45       9.00\n",
            "42           8.00       8.30\n",
            "43           6.55       7.20\n",
            "44           7.10       7.45\n",
            "45           8.00       8.30\n",
            "46           8.00       8.45\n",
            "47           7.25       7.00\n",
            "48           7.30       8.30\n",
            "49           7.00       8.00\n",
            "50           7.00       7.25\n",
            "51           7.30       7.00\n",
            "52           7.00       7.30\n",
            "53           8.25       8.05\n",
            "54           7.00       7.00\n",
            "55           7.00       7.50\n",
            "56           7.00       8.00\n",
            "57           7.00       7.30\n",
            "58           8.30       7.30\n",
            "59           8.36      10.33\n",
            "60           7.15       7.40\n",
            "61           7.45       8.05\n",
            "62           7.20       7.50\n",
            "63           7.00       9.00\n",
            "64           8.00       7.18\n",
            "65           7.30       8.00\n"
          ]
        }
      ]
    },
    {
      "cell_type": "code",
      "source": [
        "cal1=[]"
      ],
      "metadata": {
        "id": "Z6FpEOWAN8Fj"
      },
      "execution_count": null,
      "outputs": []
    },
    {
      "cell_type": "code",
      "source": [
        "\n",
        "for i in et:\n",
        "  c=i.strip()\n",
        "  cal1.append(c)"
      ],
      "metadata": {
        "id": "TPPvP3v3LAss"
      },
      "execution_count": null,
      "outputs": []
    },
    {
      "cell_type": "code",
      "source": [
        "cal2=[]"
      ],
      "metadata": {
        "id": "jQuSl45AOHxF"
      },
      "execution_count": null,
      "outputs": []
    },
    {
      "cell_type": "code",
      "source": [
        "for i in exit_t:\n",
        "  e=i.strip()\n",
        "  e.replace(\".\",':')\n",
        "  cal2.append(e)"
      ],
      "metadata": {
        "id": "YLq3I9G9OH97"
      },
      "execution_count": null,
      "outputs": []
    },
    {
      "cell_type": "code",
      "source": [
        "cal2"
      ],
      "metadata": {
        "colab": {
          "base_uri": "https://localhost:8080/"
        },
        "id": "LdJg48eAOVu9",
        "outputId": "d419c451-d298-4675-f992-ff3ec5f8db0f"
      },
      "execution_count": null,
      "outputs": [
        {
          "output_type": "execute_result",
          "data": {
            "text/plain": [
              "['8.30.00',\n",
              " '7.55.00',\n",
              " '8.00.00',\n",
              " '7.20.00',\n",
              " '7.20.00',\n",
              " '7.20.00',\n",
              " '7.20.00',\n",
              " '7.30.00',\n",
              " '7.30.00',\n",
              " '7.30.00',\n",
              " '7.45.00',\n",
              " '7.45.00',\n",
              " '7.55.00',\n",
              " '8.10.00',\n",
              " '9.30.00',\n",
              " '8.00.00',\n",
              " '7.35.00',\n",
              " '7.40.00',\n",
              " '7.45.00',\n",
              " '8.00.00',\n",
              " '7.30.00',\n",
              " '8.00.00',\n",
              " '7.30.00',\n",
              " '7.25.00',\n",
              " '7.26.00',\n",
              " '9.15.00',\n",
              " '7.45.00',\n",
              " '7.10.00',\n",
              " '7.15.00',\n",
              " '7.15.00',\n",
              " '7.25.00',\n",
              " '7.15.00',\n",
              " '7.48.00',\n",
              " '8.00.00',\n",
              " '7.30.00',\n",
              " '7.45.00',\n",
              " '8.00.00',\n",
              " '7.30.00',\n",
              " '8.30.00',\n",
              " '9.30.00',\n",
              " '7.30.00',\n",
              " '9.00.00',\n",
              " '8.30.00',\n",
              " '7.20.00',\n",
              " '7.45.00',\n",
              " '8.30.00',\n",
              " '8.45.00',\n",
              " '7.00.00',\n",
              " '8.30.00',\n",
              " '8.00.00',\n",
              " '7.25.00',\n",
              " '7.00.00',\n",
              " '7.30.00',\n",
              " '8.05.00',\n",
              " '7.00.00',\n",
              " '7.50.00',\n",
              " '8.00.00',\n",
              " '7.30.00',\n",
              " '7.30.00',\n",
              " '10.33.00',\n",
              " '7.40.00',\n",
              " '8.05.00',\n",
              " '7.50.00',\n",
              " '9.00.00',\n",
              " '7.18.00',\n",
              " '8.00.00']"
            ]
          },
          "metadata": {},
          "execution_count": 226
        }
      ]
    },
    {
      "cell_type": "code",
      "source": [
        "data=pd.read_csv(\"/content/drive/MyDrive/Files/Mess_DataSet.csv\")"
      ],
      "metadata": {
        "id": "v09c2ZsYqPZH"
      },
      "execution_count": 227,
      "outputs": []
    },
    {
      "cell_type": "code",
      "source": [
        "data"
      ],
      "metadata": {
        "id": "rc6EXIn3qnE-"
      },
      "execution_count": null,
      "outputs": []
    },
    {
      "cell_type": "code",
      "source": [
        "a=data.iloc[:,-1].tolist()"
      ],
      "metadata": {
        "id": "bYREPLQCqrQK"
      },
      "execution_count": 229,
      "outputs": []
    },
    {
      "cell_type": "code",
      "source": [
        "b=data.iloc[:,-2].tolist()"
      ],
      "metadata": {
        "id": "Z7KxYLAGq1nU"
      },
      "execution_count": 230,
      "outputs": []
    },
    {
      "cell_type": "code",
      "source": [
        "a"
      ],
      "metadata": {
        "id": "A7WaDTGAq9c7"
      },
      "execution_count": null,
      "outputs": []
    },
    {
      "cell_type": "code",
      "source": [
        "b"
      ],
      "metadata": {
        "id": "R69PKXpmrAoA"
      },
      "execution_count": null,
      "outputs": []
    },
    {
      "cell_type": "code",
      "source": [
        "tot=[]"
      ],
      "metadata": {
        "id": "xhOtve5lrIma"
      },
      "execution_count": 236,
      "outputs": []
    },
    {
      "cell_type": "code",
      "source": [
        "from datetime import datetime\n",
        "\n",
        "def calculate_people_in_hall(entrance_times, exit_times, current_time):\n",
        "    people_count = 0\n",
        "\n",
        "    for entrance_time in entrance_times:\n",
        "        entrance_datetime = datetime.strptime(entrance_time, '%H:%M').time()\n",
        "        if entrance_datetime <= current_time:\n",
        "            people_count += 1\n",
        "\n",
        "    for exit_time in exit_times:\n",
        "        exit_datetime = datetime.strptime(exit_time, '%H:%M').time()\n",
        "        if exit_datetime <= current_time:\n",
        "            people_count -= 1\n",
        "\n",
        "    return people_count\n",
        "for i in a:\n",
        "    current_time = datetime.strptime(i, '%H:%M').time()\n",
        "\n",
        "    total_people = calculate_people_in_hall(a, b, current_time)\n",
        "    tot.append(total_people)"
      ],
      "metadata": {
        "id": "-FSUh8m-Nt4h"
      },
      "execution_count": 237,
      "outputs": []
    },
    {
      "cell_type": "code",
      "source": [
        "tot"
      ],
      "metadata": {
        "colab": {
          "base_uri": "https://localhost:8080/"
        },
        "id": "AAkNrJi_rftg",
        "outputId": "4c61bdf8-dd6e-47b5-eee7-dd631173b3cf"
      },
      "execution_count": 238,
      "outputs": [
        {
          "output_type": "execute_result",
          "data": {
            "text/plain": [
              "[8,\n",
              " 17,\n",
              " 19,\n",
              " 19,\n",
              " 19,\n",
              " 19,\n",
              " 19,\n",
              " 19,\n",
              " 19,\n",
              " 19,\n",
              " 17,\n",
              " 27,\n",
              " 18,\n",
              " 18,\n",
              " 19,\n",
              " 18,\n",
              " 27,\n",
              " 24,\n",
              " 17,\n",
              " 27,\n",
              " 19,\n",
              " 27,\n",
              " 20,\n",
              " 22,\n",
              " 21,\n",
              " 6,\n",
              " 18,\n",
              " 19,\n",
              " 19,\n",
              " 19,\n",
              " 19,\n",
              " 13,\n",
              " 6,\n",
              " 17,\n",
              " 8,\n",
              " 27,\n",
              " 17,\n",
              " 24,\n",
              " 17,\n",
              " 5,\n",
              " 5,\n",
              " 15,\n",
              " 8,\n",
              " 1,\n",
              " 24,\n",
              " 8,\n",
              " 8,\n",
              " 20,\n",
              " 17,\n",
              " 19,\n",
              " 19,\n",
              " 17,\n",
              " 19,\n",
              " 7,\n",
              " 19,\n",
              " 19,\n",
              " 19,\n",
              " 19,\n",
              " 5,\n",
              " 6,\n",
              " 27,\n",
              " 15,\n",
              " 22,\n",
              " 19,\n",
              " 8,\n",
              " 17]"
            ]
          },
          "metadata": {},
          "execution_count": 238
        }
      ]
    },
    {
      "cell_type": "code",
      "source": [],
      "metadata": {
        "id": "ZngYno0ssKZj"
      },
      "execution_count": null,
      "outputs": []
    },
    {
      "cell_type": "code",
      "source": [
        "\n",
        "\n",
        "# Create a list\n",
        "\n",
        "\n",
        "# Create a DataFrame\n",
        "d = pd.DataFrame()\n",
        "\n",
        "# Add the list as a new column in the DataFrame\n",
        "d['Entrance_time'] = etime\n",
        "d['Exit_time']=exit_time\n",
        "d['Tot_people']=tot\n",
        "\n",
        "# Display the DataFrame\n",
        "d"
      ],
      "metadata": {
        "colab": {
          "base_uri": "https://localhost:8080/",
          "height": 682
        },
        "id": "GyG6HIyNKVqF",
        "outputId": "cbad5e11-3fd9-457e-e2fc-7667c64029f3"
      },
      "execution_count": 240,
      "outputs": [
        {
          "output_type": "execute_result",
          "data": {
            "text/plain": [
              "    Entrance_time  Exit_time  Tot_people\n",
              "0            8.00       8.30           8\n",
              "1            7.30       7.55          17\n",
              "2            7.00       8.00          19\n",
              "3            7.00       7.20          19\n",
              "4            7.00       7.20          19\n",
              "..            ...        ...         ...\n",
              "61           7.45       8.05          15\n",
              "62           7.20       7.50          22\n",
              "63           7.00       9.00          19\n",
              "64           8.00       7.18           8\n",
              "65           7.30       8.00          17\n",
              "\n",
              "[66 rows x 3 columns]"
            ],
            "text/html": [
              "\n",
              "  <div id=\"df-5b69f1e1-7273-4486-9910-bdc41f500f70\" class=\"colab-df-container\">\n",
              "    <div>\n",
              "<style scoped>\n",
              "    .dataframe tbody tr th:only-of-type {\n",
              "        vertical-align: middle;\n",
              "    }\n",
              "\n",
              "    .dataframe tbody tr th {\n",
              "        vertical-align: top;\n",
              "    }\n",
              "\n",
              "    .dataframe thead th {\n",
              "        text-align: right;\n",
              "    }\n",
              "</style>\n",
              "<table border=\"1\" class=\"dataframe\">\n",
              "  <thead>\n",
              "    <tr style=\"text-align: right;\">\n",
              "      <th></th>\n",
              "      <th>Entrance_time</th>\n",
              "      <th>Exit_time</th>\n",
              "      <th>Tot_people</th>\n",
              "    </tr>\n",
              "  </thead>\n",
              "  <tbody>\n",
              "    <tr>\n",
              "      <th>0</th>\n",
              "      <td>8.00</td>\n",
              "      <td>8.30</td>\n",
              "      <td>8</td>\n",
              "    </tr>\n",
              "    <tr>\n",
              "      <th>1</th>\n",
              "      <td>7.30</td>\n",
              "      <td>7.55</td>\n",
              "      <td>17</td>\n",
              "    </tr>\n",
              "    <tr>\n",
              "      <th>2</th>\n",
              "      <td>7.00</td>\n",
              "      <td>8.00</td>\n",
              "      <td>19</td>\n",
              "    </tr>\n",
              "    <tr>\n",
              "      <th>3</th>\n",
              "      <td>7.00</td>\n",
              "      <td>7.20</td>\n",
              "      <td>19</td>\n",
              "    </tr>\n",
              "    <tr>\n",
              "      <th>4</th>\n",
              "      <td>7.00</td>\n",
              "      <td>7.20</td>\n",
              "      <td>19</td>\n",
              "    </tr>\n",
              "    <tr>\n",
              "      <th>...</th>\n",
              "      <td>...</td>\n",
              "      <td>...</td>\n",
              "      <td>...</td>\n",
              "    </tr>\n",
              "    <tr>\n",
              "      <th>61</th>\n",
              "      <td>7.45</td>\n",
              "      <td>8.05</td>\n",
              "      <td>15</td>\n",
              "    </tr>\n",
              "    <tr>\n",
              "      <th>62</th>\n",
              "      <td>7.20</td>\n",
              "      <td>7.50</td>\n",
              "      <td>22</td>\n",
              "    </tr>\n",
              "    <tr>\n",
              "      <th>63</th>\n",
              "      <td>7.00</td>\n",
              "      <td>9.00</td>\n",
              "      <td>19</td>\n",
              "    </tr>\n",
              "    <tr>\n",
              "      <th>64</th>\n",
              "      <td>8.00</td>\n",
              "      <td>7.18</td>\n",
              "      <td>8</td>\n",
              "    </tr>\n",
              "    <tr>\n",
              "      <th>65</th>\n",
              "      <td>7.30</td>\n",
              "      <td>8.00</td>\n",
              "      <td>17</td>\n",
              "    </tr>\n",
              "  </tbody>\n",
              "</table>\n",
              "<p>66 rows × 3 columns</p>\n",
              "</div>\n",
              "    <div class=\"colab-df-buttons\">\n",
              "\n",
              "  <div class=\"colab-df-container\">\n",
              "    <button class=\"colab-df-convert\" onclick=\"convertToInteractive('df-5b69f1e1-7273-4486-9910-bdc41f500f70')\"\n",
              "            title=\"Convert this dataframe to an interactive table.\"\n",
              "            style=\"display:none;\">\n",
              "\n",
              "  <svg xmlns=\"http://www.w3.org/2000/svg\" height=\"24px\" viewBox=\"0 -960 960 960\">\n",
              "    <path d=\"M120-120v-720h720v720H120Zm60-500h600v-160H180v160Zm220 220h160v-160H400v160Zm0 220h160v-160H400v160ZM180-400h160v-160H180v160Zm440 0h160v-160H620v160ZM180-180h160v-160H180v160Zm440 0h160v-160H620v160Z\"/>\n",
              "  </svg>\n",
              "    </button>\n",
              "\n",
              "  <style>\n",
              "    .colab-df-container {\n",
              "      display:flex;\n",
              "      gap: 12px;\n",
              "    }\n",
              "\n",
              "    .colab-df-convert {\n",
              "      background-color: #E8F0FE;\n",
              "      border: none;\n",
              "      border-radius: 50%;\n",
              "      cursor: pointer;\n",
              "      display: none;\n",
              "      fill: #1967D2;\n",
              "      height: 32px;\n",
              "      padding: 0 0 0 0;\n",
              "      width: 32px;\n",
              "    }\n",
              "\n",
              "    .colab-df-convert:hover {\n",
              "      background-color: #E2EBFA;\n",
              "      box-shadow: 0px 1px 2px rgba(60, 64, 67, 0.3), 0px 1px 3px 1px rgba(60, 64, 67, 0.15);\n",
              "      fill: #174EA6;\n",
              "    }\n",
              "\n",
              "    .colab-df-buttons div {\n",
              "      margin-bottom: 4px;\n",
              "    }\n",
              "\n",
              "    [theme=dark] .colab-df-convert {\n",
              "      background-color: #3B4455;\n",
              "      fill: #D2E3FC;\n",
              "    }\n",
              "\n",
              "    [theme=dark] .colab-df-convert:hover {\n",
              "      background-color: #434B5C;\n",
              "      box-shadow: 0px 1px 3px 1px rgba(0, 0, 0, 0.15);\n",
              "      filter: drop-shadow(0px 1px 2px rgba(0, 0, 0, 0.3));\n",
              "      fill: #FFFFFF;\n",
              "    }\n",
              "  </style>\n",
              "\n",
              "    <script>\n",
              "      const buttonEl =\n",
              "        document.querySelector('#df-5b69f1e1-7273-4486-9910-bdc41f500f70 button.colab-df-convert');\n",
              "      buttonEl.style.display =\n",
              "        google.colab.kernel.accessAllowed ? 'block' : 'none';\n",
              "\n",
              "      async function convertToInteractive(key) {\n",
              "        const element = document.querySelector('#df-5b69f1e1-7273-4486-9910-bdc41f500f70');\n",
              "        const dataTable =\n",
              "          await google.colab.kernel.invokeFunction('convertToInteractive',\n",
              "                                                    [key], {});\n",
              "        if (!dataTable) return;\n",
              "\n",
              "        const docLinkHtml = 'Like what you see? Visit the ' +\n",
              "          '<a target=\"_blank\" href=https://colab.research.google.com/notebooks/data_table.ipynb>data table notebook</a>'\n",
              "          + ' to learn more about interactive tables.';\n",
              "        element.innerHTML = '';\n",
              "        dataTable['output_type'] = 'display_data';\n",
              "        await google.colab.output.renderOutput(dataTable, element);\n",
              "        const docLink = document.createElement('div');\n",
              "        docLink.innerHTML = docLinkHtml;\n",
              "        element.appendChild(docLink);\n",
              "      }\n",
              "    </script>\n",
              "  </div>\n",
              "\n",
              "\n",
              "<div id=\"df-2fe30db2-a129-468e-87b4-6dc975d2db5c\">\n",
              "  <button class=\"colab-df-quickchart\" onclick=\"quickchart('df-2fe30db2-a129-468e-87b4-6dc975d2db5c')\"\n",
              "            title=\"Suggest charts.\"\n",
              "            style=\"display:none;\">\n",
              "\n",
              "<svg xmlns=\"http://www.w3.org/2000/svg\" height=\"24px\"viewBox=\"0 0 24 24\"\n",
              "     width=\"24px\">\n",
              "    <g>\n",
              "        <path d=\"M19 3H5c-1.1 0-2 .9-2 2v14c0 1.1.9 2 2 2h14c1.1 0 2-.9 2-2V5c0-1.1-.9-2-2-2zM9 17H7v-7h2v7zm4 0h-2V7h2v10zm4 0h-2v-4h2v4z\"/>\n",
              "    </g>\n",
              "</svg>\n",
              "  </button>\n",
              "\n",
              "<style>\n",
              "  .colab-df-quickchart {\n",
              "      --bg-color: #E8F0FE;\n",
              "      --fill-color: #1967D2;\n",
              "      --hover-bg-color: #E2EBFA;\n",
              "      --hover-fill-color: #174EA6;\n",
              "      --disabled-fill-color: #AAA;\n",
              "      --disabled-bg-color: #DDD;\n",
              "  }\n",
              "\n",
              "  [theme=dark] .colab-df-quickchart {\n",
              "      --bg-color: #3B4455;\n",
              "      --fill-color: #D2E3FC;\n",
              "      --hover-bg-color: #434B5C;\n",
              "      --hover-fill-color: #FFFFFF;\n",
              "      --disabled-bg-color: #3B4455;\n",
              "      --disabled-fill-color: #666;\n",
              "  }\n",
              "\n",
              "  .colab-df-quickchart {\n",
              "    background-color: var(--bg-color);\n",
              "    border: none;\n",
              "    border-radius: 50%;\n",
              "    cursor: pointer;\n",
              "    display: none;\n",
              "    fill: var(--fill-color);\n",
              "    height: 32px;\n",
              "    padding: 0;\n",
              "    width: 32px;\n",
              "  }\n",
              "\n",
              "  .colab-df-quickchart:hover {\n",
              "    background-color: var(--hover-bg-color);\n",
              "    box-shadow: 0 1px 2px rgba(60, 64, 67, 0.3), 0 1px 3px 1px rgba(60, 64, 67, 0.15);\n",
              "    fill: var(--button-hover-fill-color);\n",
              "  }\n",
              "\n",
              "  .colab-df-quickchart-complete:disabled,\n",
              "  .colab-df-quickchart-complete:disabled:hover {\n",
              "    background-color: var(--disabled-bg-color);\n",
              "    fill: var(--disabled-fill-color);\n",
              "    box-shadow: none;\n",
              "  }\n",
              "\n",
              "  .colab-df-spinner {\n",
              "    border: 2px solid var(--fill-color);\n",
              "    border-color: transparent;\n",
              "    border-bottom-color: var(--fill-color);\n",
              "    animation:\n",
              "      spin 1s steps(1) infinite;\n",
              "  }\n",
              "\n",
              "  @keyframes spin {\n",
              "    0% {\n",
              "      border-color: transparent;\n",
              "      border-bottom-color: var(--fill-color);\n",
              "      border-left-color: var(--fill-color);\n",
              "    }\n",
              "    20% {\n",
              "      border-color: transparent;\n",
              "      border-left-color: var(--fill-color);\n",
              "      border-top-color: var(--fill-color);\n",
              "    }\n",
              "    30% {\n",
              "      border-color: transparent;\n",
              "      border-left-color: var(--fill-color);\n",
              "      border-top-color: var(--fill-color);\n",
              "      border-right-color: var(--fill-color);\n",
              "    }\n",
              "    40% {\n",
              "      border-color: transparent;\n",
              "      border-right-color: var(--fill-color);\n",
              "      border-top-color: var(--fill-color);\n",
              "    }\n",
              "    60% {\n",
              "      border-color: transparent;\n",
              "      border-right-color: var(--fill-color);\n",
              "    }\n",
              "    80% {\n",
              "      border-color: transparent;\n",
              "      border-right-color: var(--fill-color);\n",
              "      border-bottom-color: var(--fill-color);\n",
              "    }\n",
              "    90% {\n",
              "      border-color: transparent;\n",
              "      border-bottom-color: var(--fill-color);\n",
              "    }\n",
              "  }\n",
              "</style>\n",
              "\n",
              "  <script>\n",
              "    async function quickchart(key) {\n",
              "      const quickchartButtonEl =\n",
              "        document.querySelector('#' + key + ' button');\n",
              "      quickchartButtonEl.disabled = true;  // To prevent multiple clicks.\n",
              "      quickchartButtonEl.classList.add('colab-df-spinner');\n",
              "      try {\n",
              "        const charts = await google.colab.kernel.invokeFunction(\n",
              "            'suggestCharts', [key], {});\n",
              "      } catch (error) {\n",
              "        console.error('Error during call to suggestCharts:', error);\n",
              "      }\n",
              "      quickchartButtonEl.classList.remove('colab-df-spinner');\n",
              "      quickchartButtonEl.classList.add('colab-df-quickchart-complete');\n",
              "    }\n",
              "    (() => {\n",
              "      let quickchartButtonEl =\n",
              "        document.querySelector('#df-2fe30db2-a129-468e-87b4-6dc975d2db5c button');\n",
              "      quickchartButtonEl.style.display =\n",
              "        google.colab.kernel.accessAllowed ? 'block' : 'none';\n",
              "    })();\n",
              "  </script>\n",
              "</div>\n",
              "    </div>\n",
              "  </div>\n"
            ]
          },
          "metadata": {},
          "execution_count": 240
        }
      ]
    },
    {
      "cell_type": "code",
      "source": [
        "d"
      ],
      "metadata": {
        "colab": {
          "base_uri": "https://localhost:8080/",
          "height": 423
        },
        "id": "dFPbKEFpsFE4",
        "outputId": "282fde23-a437-44ee-b836-774ce62cd4ca"
      },
      "execution_count": 241,
      "outputs": [
        {
          "output_type": "execute_result",
          "data": {
            "text/plain": [
              "    Entrance_time  Exit_time  Tot_people\n",
              "0            8.00       8.30           8\n",
              "1            7.30       7.55          17\n",
              "2            7.00       8.00          19\n",
              "3            7.00       7.20          19\n",
              "4            7.00       7.20          19\n",
              "..            ...        ...         ...\n",
              "61           7.45       8.05          15\n",
              "62           7.20       7.50          22\n",
              "63           7.00       9.00          19\n",
              "64           8.00       7.18           8\n",
              "65           7.30       8.00          17\n",
              "\n",
              "[66 rows x 3 columns]"
            ],
            "text/html": [
              "\n",
              "  <div id=\"df-b515cac0-683a-4944-b510-7ad3faf76733\" class=\"colab-df-container\">\n",
              "    <div>\n",
              "<style scoped>\n",
              "    .dataframe tbody tr th:only-of-type {\n",
              "        vertical-align: middle;\n",
              "    }\n",
              "\n",
              "    .dataframe tbody tr th {\n",
              "        vertical-align: top;\n",
              "    }\n",
              "\n",
              "    .dataframe thead th {\n",
              "        text-align: right;\n",
              "    }\n",
              "</style>\n",
              "<table border=\"1\" class=\"dataframe\">\n",
              "  <thead>\n",
              "    <tr style=\"text-align: right;\">\n",
              "      <th></th>\n",
              "      <th>Entrance_time</th>\n",
              "      <th>Exit_time</th>\n",
              "      <th>Tot_people</th>\n",
              "    </tr>\n",
              "  </thead>\n",
              "  <tbody>\n",
              "    <tr>\n",
              "      <th>0</th>\n",
              "      <td>8.00</td>\n",
              "      <td>8.30</td>\n",
              "      <td>8</td>\n",
              "    </tr>\n",
              "    <tr>\n",
              "      <th>1</th>\n",
              "      <td>7.30</td>\n",
              "      <td>7.55</td>\n",
              "      <td>17</td>\n",
              "    </tr>\n",
              "    <tr>\n",
              "      <th>2</th>\n",
              "      <td>7.00</td>\n",
              "      <td>8.00</td>\n",
              "      <td>19</td>\n",
              "    </tr>\n",
              "    <tr>\n",
              "      <th>3</th>\n",
              "      <td>7.00</td>\n",
              "      <td>7.20</td>\n",
              "      <td>19</td>\n",
              "    </tr>\n",
              "    <tr>\n",
              "      <th>4</th>\n",
              "      <td>7.00</td>\n",
              "      <td>7.20</td>\n",
              "      <td>19</td>\n",
              "    </tr>\n",
              "    <tr>\n",
              "      <th>...</th>\n",
              "      <td>...</td>\n",
              "      <td>...</td>\n",
              "      <td>...</td>\n",
              "    </tr>\n",
              "    <tr>\n",
              "      <th>61</th>\n",
              "      <td>7.45</td>\n",
              "      <td>8.05</td>\n",
              "      <td>15</td>\n",
              "    </tr>\n",
              "    <tr>\n",
              "      <th>62</th>\n",
              "      <td>7.20</td>\n",
              "      <td>7.50</td>\n",
              "      <td>22</td>\n",
              "    </tr>\n",
              "    <tr>\n",
              "      <th>63</th>\n",
              "      <td>7.00</td>\n",
              "      <td>9.00</td>\n",
              "      <td>19</td>\n",
              "    </tr>\n",
              "    <tr>\n",
              "      <th>64</th>\n",
              "      <td>8.00</td>\n",
              "      <td>7.18</td>\n",
              "      <td>8</td>\n",
              "    </tr>\n",
              "    <tr>\n",
              "      <th>65</th>\n",
              "      <td>7.30</td>\n",
              "      <td>8.00</td>\n",
              "      <td>17</td>\n",
              "    </tr>\n",
              "  </tbody>\n",
              "</table>\n",
              "<p>66 rows × 3 columns</p>\n",
              "</div>\n",
              "    <div class=\"colab-df-buttons\">\n",
              "\n",
              "  <div class=\"colab-df-container\">\n",
              "    <button class=\"colab-df-convert\" onclick=\"convertToInteractive('df-b515cac0-683a-4944-b510-7ad3faf76733')\"\n",
              "            title=\"Convert this dataframe to an interactive table.\"\n",
              "            style=\"display:none;\">\n",
              "\n",
              "  <svg xmlns=\"http://www.w3.org/2000/svg\" height=\"24px\" viewBox=\"0 -960 960 960\">\n",
              "    <path d=\"M120-120v-720h720v720H120Zm60-500h600v-160H180v160Zm220 220h160v-160H400v160Zm0 220h160v-160H400v160ZM180-400h160v-160H180v160Zm440 0h160v-160H620v160ZM180-180h160v-160H180v160Zm440 0h160v-160H620v160Z\"/>\n",
              "  </svg>\n",
              "    </button>\n",
              "\n",
              "  <style>\n",
              "    .colab-df-container {\n",
              "      display:flex;\n",
              "      gap: 12px;\n",
              "    }\n",
              "\n",
              "    .colab-df-convert {\n",
              "      background-color: #E8F0FE;\n",
              "      border: none;\n",
              "      border-radius: 50%;\n",
              "      cursor: pointer;\n",
              "      display: none;\n",
              "      fill: #1967D2;\n",
              "      height: 32px;\n",
              "      padding: 0 0 0 0;\n",
              "      width: 32px;\n",
              "    }\n",
              "\n",
              "    .colab-df-convert:hover {\n",
              "      background-color: #E2EBFA;\n",
              "      box-shadow: 0px 1px 2px rgba(60, 64, 67, 0.3), 0px 1px 3px 1px rgba(60, 64, 67, 0.15);\n",
              "      fill: #174EA6;\n",
              "    }\n",
              "\n",
              "    .colab-df-buttons div {\n",
              "      margin-bottom: 4px;\n",
              "    }\n",
              "\n",
              "    [theme=dark] .colab-df-convert {\n",
              "      background-color: #3B4455;\n",
              "      fill: #D2E3FC;\n",
              "    }\n",
              "\n",
              "    [theme=dark] .colab-df-convert:hover {\n",
              "      background-color: #434B5C;\n",
              "      box-shadow: 0px 1px 3px 1px rgba(0, 0, 0, 0.15);\n",
              "      filter: drop-shadow(0px 1px 2px rgba(0, 0, 0, 0.3));\n",
              "      fill: #FFFFFF;\n",
              "    }\n",
              "  </style>\n",
              "\n",
              "    <script>\n",
              "      const buttonEl =\n",
              "        document.querySelector('#df-b515cac0-683a-4944-b510-7ad3faf76733 button.colab-df-convert');\n",
              "      buttonEl.style.display =\n",
              "        google.colab.kernel.accessAllowed ? 'block' : 'none';\n",
              "\n",
              "      async function convertToInteractive(key) {\n",
              "        const element = document.querySelector('#df-b515cac0-683a-4944-b510-7ad3faf76733');\n",
              "        const dataTable =\n",
              "          await google.colab.kernel.invokeFunction('convertToInteractive',\n",
              "                                                    [key], {});\n",
              "        if (!dataTable) return;\n",
              "\n",
              "        const docLinkHtml = 'Like what you see? Visit the ' +\n",
              "          '<a target=\"_blank\" href=https://colab.research.google.com/notebooks/data_table.ipynb>data table notebook</a>'\n",
              "          + ' to learn more about interactive tables.';\n",
              "        element.innerHTML = '';\n",
              "        dataTable['output_type'] = 'display_data';\n",
              "        await google.colab.output.renderOutput(dataTable, element);\n",
              "        const docLink = document.createElement('div');\n",
              "        docLink.innerHTML = docLinkHtml;\n",
              "        element.appendChild(docLink);\n",
              "      }\n",
              "    </script>\n",
              "  </div>\n",
              "\n",
              "\n",
              "<div id=\"df-43e8c1a5-42a3-412a-8062-83b82e5f4617\">\n",
              "  <button class=\"colab-df-quickchart\" onclick=\"quickchart('df-43e8c1a5-42a3-412a-8062-83b82e5f4617')\"\n",
              "            title=\"Suggest charts.\"\n",
              "            style=\"display:none;\">\n",
              "\n",
              "<svg xmlns=\"http://www.w3.org/2000/svg\" height=\"24px\"viewBox=\"0 0 24 24\"\n",
              "     width=\"24px\">\n",
              "    <g>\n",
              "        <path d=\"M19 3H5c-1.1 0-2 .9-2 2v14c0 1.1.9 2 2 2h14c1.1 0 2-.9 2-2V5c0-1.1-.9-2-2-2zM9 17H7v-7h2v7zm4 0h-2V7h2v10zm4 0h-2v-4h2v4z\"/>\n",
              "    </g>\n",
              "</svg>\n",
              "  </button>\n",
              "\n",
              "<style>\n",
              "  .colab-df-quickchart {\n",
              "      --bg-color: #E8F0FE;\n",
              "      --fill-color: #1967D2;\n",
              "      --hover-bg-color: #E2EBFA;\n",
              "      --hover-fill-color: #174EA6;\n",
              "      --disabled-fill-color: #AAA;\n",
              "      --disabled-bg-color: #DDD;\n",
              "  }\n",
              "\n",
              "  [theme=dark] .colab-df-quickchart {\n",
              "      --bg-color: #3B4455;\n",
              "      --fill-color: #D2E3FC;\n",
              "      --hover-bg-color: #434B5C;\n",
              "      --hover-fill-color: #FFFFFF;\n",
              "      --disabled-bg-color: #3B4455;\n",
              "      --disabled-fill-color: #666;\n",
              "  }\n",
              "\n",
              "  .colab-df-quickchart {\n",
              "    background-color: var(--bg-color);\n",
              "    border: none;\n",
              "    border-radius: 50%;\n",
              "    cursor: pointer;\n",
              "    display: none;\n",
              "    fill: var(--fill-color);\n",
              "    height: 32px;\n",
              "    padding: 0;\n",
              "    width: 32px;\n",
              "  }\n",
              "\n",
              "  .colab-df-quickchart:hover {\n",
              "    background-color: var(--hover-bg-color);\n",
              "    box-shadow: 0 1px 2px rgba(60, 64, 67, 0.3), 0 1px 3px 1px rgba(60, 64, 67, 0.15);\n",
              "    fill: var(--button-hover-fill-color);\n",
              "  }\n",
              "\n",
              "  .colab-df-quickchart-complete:disabled,\n",
              "  .colab-df-quickchart-complete:disabled:hover {\n",
              "    background-color: var(--disabled-bg-color);\n",
              "    fill: var(--disabled-fill-color);\n",
              "    box-shadow: none;\n",
              "  }\n",
              "\n",
              "  .colab-df-spinner {\n",
              "    border: 2px solid var(--fill-color);\n",
              "    border-color: transparent;\n",
              "    border-bottom-color: var(--fill-color);\n",
              "    animation:\n",
              "      spin 1s steps(1) infinite;\n",
              "  }\n",
              "\n",
              "  @keyframes spin {\n",
              "    0% {\n",
              "      border-color: transparent;\n",
              "      border-bottom-color: var(--fill-color);\n",
              "      border-left-color: var(--fill-color);\n",
              "    }\n",
              "    20% {\n",
              "      border-color: transparent;\n",
              "      border-left-color: var(--fill-color);\n",
              "      border-top-color: var(--fill-color);\n",
              "    }\n",
              "    30% {\n",
              "      border-color: transparent;\n",
              "      border-left-color: var(--fill-color);\n",
              "      border-top-color: var(--fill-color);\n",
              "      border-right-color: var(--fill-color);\n",
              "    }\n",
              "    40% {\n",
              "      border-color: transparent;\n",
              "      border-right-color: var(--fill-color);\n",
              "      border-top-color: var(--fill-color);\n",
              "    }\n",
              "    60% {\n",
              "      border-color: transparent;\n",
              "      border-right-color: var(--fill-color);\n",
              "    }\n",
              "    80% {\n",
              "      border-color: transparent;\n",
              "      border-right-color: var(--fill-color);\n",
              "      border-bottom-color: var(--fill-color);\n",
              "    }\n",
              "    90% {\n",
              "      border-color: transparent;\n",
              "      border-bottom-color: var(--fill-color);\n",
              "    }\n",
              "  }\n",
              "</style>\n",
              "\n",
              "  <script>\n",
              "    async function quickchart(key) {\n",
              "      const quickchartButtonEl =\n",
              "        document.querySelector('#' + key + ' button');\n",
              "      quickchartButtonEl.disabled = true;  // To prevent multiple clicks.\n",
              "      quickchartButtonEl.classList.add('colab-df-spinner');\n",
              "      try {\n",
              "        const charts = await google.colab.kernel.invokeFunction(\n",
              "            'suggestCharts', [key], {});\n",
              "      } catch (error) {\n",
              "        console.error('Error during call to suggestCharts:', error);\n",
              "      }\n",
              "      quickchartButtonEl.classList.remove('colab-df-spinner');\n",
              "      quickchartButtonEl.classList.add('colab-df-quickchart-complete');\n",
              "    }\n",
              "    (() => {\n",
              "      let quickchartButtonEl =\n",
              "        document.querySelector('#df-43e8c1a5-42a3-412a-8062-83b82e5f4617 button');\n",
              "      quickchartButtonEl.style.display =\n",
              "        google.colab.kernel.accessAllowed ? 'block' : 'none';\n",
              "    })();\n",
              "  </script>\n",
              "</div>\n",
              "    </div>\n",
              "  </div>\n"
            ]
          },
          "metadata": {},
          "execution_count": 241
        }
      ]
    },
    {
      "cell_type": "code",
      "source": [
        "x=d.iloc[:,:-1].values"
      ],
      "metadata": {
        "id": "74rBchiGss6E"
      },
      "execution_count": 242,
      "outputs": []
    },
    {
      "cell_type": "code",
      "source": [
        "x"
      ],
      "metadata": {
        "colab": {
          "base_uri": "https://localhost:8080/"
        },
        "id": "52V8pgdntI72",
        "outputId": "b5325a7f-d828-46a7-afb2-fc24813d0e77"
      },
      "execution_count": 243,
      "outputs": [
        {
          "output_type": "execute_result",
          "data": {
            "text/plain": [
              "array([[ 8.  ,  8.3 ],\n",
              "       [ 7.3 ,  7.55],\n",
              "       [ 7.  ,  8.  ],\n",
              "       [ 7.  ,  7.2 ],\n",
              "       [ 7.  ,  7.2 ],\n",
              "       [ 7.  ,  7.2 ],\n",
              "       [ 7.  ,  7.2 ],\n",
              "       [ 7.  ,  7.3 ],\n",
              "       [ 7.  ,  7.3 ],\n",
              "       [ 7.  ,  7.3 ],\n",
              "       [ 7.3 ,  7.45],\n",
              "       [ 7.15,  7.45],\n",
              "       [ 7.4 ,  7.55],\n",
              "       [ 7.4 ,  8.1 ],\n",
              "       [ 7.  ,  9.3 ],\n",
              "       [ 7.4 ,  8.  ],\n",
              "       [ 7.15,  7.35],\n",
              "       [ 7.1 ,  7.4 ],\n",
              "       [ 7.3 ,  7.45],\n",
              "       [ 7.15,  8.  ],\n",
              "       [ 7.  ,  7.3 ],\n",
              "       [ 7.15,  8.  ],\n",
              "       [ 7.05,  7.3 ],\n",
              "       [ 7.09,  7.25],\n",
              "       [ 7.07,  7.26],\n",
              "       [ 8.45,  9.15],\n",
              "       [ 7.34,  7.45],\n",
              "       [ 7.42,  7.1 ],\n",
              "       [ 7.  ,  7.15],\n",
              "       [ 7.  ,  7.15],\n",
              "       [ 7.  ,  7.25],\n",
              "       [ 7.5 ,  7.15],\n",
              "       [ 8.21,  7.48],\n",
              "       [ 7.3 ,  8.  ],\n",
              "       [ 8.  ,  7.3 ],\n",
              "       [ 7.15,  7.45],\n",
              "       [ 7.3 ,  8.  ],\n",
              "       [ 7.1 ,  7.3 ],\n",
              "       [ 7.3 ,  8.3 ],\n",
              "       [ 8.3 ,  9.3 ],\n",
              "       [ 8.3 ,  7.3 ],\n",
              "       [ 7.45,  9.  ],\n",
              "       [ 8.  ,  8.3 ],\n",
              "       [ 6.55,  7.2 ],\n",
              "       [ 7.1 ,  7.45],\n",
              "       [ 8.  ,  8.3 ],\n",
              "       [ 8.  ,  8.45],\n",
              "       [ 7.25,  7.  ],\n",
              "       [ 7.3 ,  8.3 ],\n",
              "       [ 7.  ,  8.  ],\n",
              "       [ 7.  ,  7.25],\n",
              "       [ 7.3 ,  7.  ],\n",
              "       [ 7.  ,  7.3 ],\n",
              "       [ 8.25,  8.05],\n",
              "       [ 7.  ,  7.  ],\n",
              "       [ 7.  ,  7.5 ],\n",
              "       [ 7.  ,  8.  ],\n",
              "       [ 7.  ,  7.3 ],\n",
              "       [ 8.3 ,  7.3 ],\n",
              "       [ 8.36, 10.33],\n",
              "       [ 7.15,  7.4 ],\n",
              "       [ 7.45,  8.05],\n",
              "       [ 7.2 ,  7.5 ],\n",
              "       [ 7.  ,  9.  ],\n",
              "       [ 8.  ,  7.18],\n",
              "       [ 7.3 ,  8.  ]])"
            ]
          },
          "metadata": {},
          "execution_count": 243
        }
      ]
    },
    {
      "cell_type": "code",
      "source": [
        "y=d.iloc[:,-1].values"
      ],
      "metadata": {
        "id": "arfQQe22tOC9"
      },
      "execution_count": 244,
      "outputs": []
    },
    {
      "cell_type": "code",
      "source": [
        "d.hist(bins=5)"
      ],
      "metadata": {
        "colab": {
          "base_uri": "https://localhost:8080/",
          "height": 504
        },
        "id": "yTx0XsJItcjy",
        "outputId": "2cdb518c-da73-4cb5-f5f5-998c76722b72"
      },
      "execution_count": 245,
      "outputs": [
        {
          "output_type": "execute_result",
          "data": {
            "text/plain": [
              "array([[<Axes: title={'center': 'Entrance_time'}>,\n",
              "        <Axes: title={'center': 'Exit_time'}>],\n",
              "       [<Axes: title={'center': 'Tot_people'}>, <Axes: >]], dtype=object)"
            ]
          },
          "metadata": {},
          "execution_count": 245
        },
        {
          "output_type": "display_data",
          "data": {
            "text/plain": [
              "<Figure size 640x480 with 4 Axes>"
            ],
            "image/png": "[encoded data removed]"
          },
          "metadata": {}
        }
      ]
    },
    {
      "cell_type": "code",
      "source": [
        "from sklearn.model_selection import train_test_split"
      ],
      "metadata": {
        "id": "tvU9mWaTtlHg"
      },
      "execution_count": 246,
      "outputs": []
    },
    {
      "cell_type": "code",
      "source": [
        "xtrain,xtest,ytrain,ytest=train_test_split(x,y,test_size=0.2,random_state=0)"
      ],
      "metadata": {
        "id": "VxDDpBlUt13Q"
      },
      "execution_count": 247,
      "outputs": []
    },
    {
      "cell_type": "code",
      "source": [
        "from sklearn.linear_model import LinearRegression"
      ],
      "metadata": {
        "id": "0bpKZp6vuCSj"
      },
      "execution_count": 248,
      "outputs": []
    },
    {
      "cell_type": "code",
      "source": [
        "lr=LinearRegression()"
      ],
      "metadata": {
        "id": "ZIfpdMB7uKHM"
      },
      "execution_count": 249,
      "outputs": []
    },
    {
      "cell_type": "code",
      "source": [
        "model=lr.fit(xtrain,ytrain)"
      ],
      "metadata": {
        "id": "ak4W0igPuSaF"
      },
      "execution_count": 250,
      "outputs": []
    },
    {
      "cell_type": "code",
      "source": [
        "ypred=model.predict(xtest)"
      ],
      "metadata": {
        "id": "jdi-7Odkubxv"
      },
      "execution_count": 251,
      "outputs": []
    },
    {
      "cell_type": "code",
      "source": [
        "ypred"
      ],
      "metadata": {
        "colab": {
          "base_uri": "https://localhost:8080/"
        },
        "id": "e3pnaxXsuhyF",
        "outputId": "724b0c85-d54d-44b4-a083-d6fa688101bb"
      },
      "execution_count": 252,
      "outputs": [
        {
          "output_type": "execute_result",
          "data": {
            "text/plain": [
              "array([10.60572809, 20.56103561, 20.56103561, 20.45868262, 20.02002691,\n",
              "       15.75153321, 17.71919974, 10.56186252, 10.89816523, 20.54641376,\n",
              "       19.03045375,  8.01246379, 17.4267626 , 17.33903146])"
            ]
          },
          "metadata": {},
          "execution_count": 252
        }
      ]
    },
    {
      "cell_type": "code",
      "source": [
        "ytest"
      ],
      "metadata": {
        "colab": {
          "base_uri": "https://localhost:8080/"
        },
        "id": "k_MH3YfsulT1",
        "outputId": "cfdf6e93-5b1b-41a5-96d9-31712501a0c6"
      },
      "execution_count": 253,
      "outputs": [
        {
          "output_type": "execute_result",
          "data": {
            "text/plain": [
              "array([ 8, 19, 19, 19, 19, 13, 17,  8,  8, 19, 27,  5, 17, 17])"
            ]
          },
          "metadata": {},
          "execution_count": 253
        }
      ]
    },
    {
      "cell_type": "code",
      "source": [
        "from sklearn.metrics import r2_score"
      ],
      "metadata": {
        "id": "2thRgykkuoh4"
      },
      "execution_count": 254,
      "outputs": []
    },
    {
      "cell_type": "code",
      "source": [
        "print(r2_score(ytest,ypred))"
      ],
      "metadata": {
        "colab": {
          "base_uri": "https://localhost:8080/"
        },
        "id": "qgFrUH2XvAl_",
        "outputId": "fae1a7a9-61bc-49bd-846a-90c6e85554a2"
      },
      "execution_count": 255,
      "outputs": [
        {
          "output_type": "stream",
          "name": "stdout",
          "text": [
            "0.7667845925432542\n"
          ]
        }
      ]
    },
    {
      "cell_type": "code",
      "source": [
        "model.predict([[7.25,7.45]])"
      ],
      "metadata": {
        "colab": {
          "base_uri": "https://localhost:8080/"
        },
        "id": "2-f0-yP6vVy7",
        "outputId": "d39cfa44-b12c-40f2-a1b6-0017cfe69cf8"
      },
      "execution_count": 259,
      "outputs": [
        {
          "output_type": "execute_result",
          "data": {
            "text/plain": [
              "array([18.06855327])"
            ]
          },
          "metadata": {},
          "execution_count": 259
        }
      ]
    },
    {
      "cell_type": "code",
      "source": [
        "model.predict([[8.0,8.30]])"
      ],
      "metadata": {
        "colab": {
          "base_uri": "https://localhost:8080/"
        },
        "id": "Z9xK_w2zvsiE",
        "outputId": "ea0c4f63-64b3-429b-db87-6aafa598170f"
      },
      "execution_count": 260,
      "outputs": [
        {
          "output_type": "execute_result",
          "data": {
            "text/plain": [
              "array([10.60572809])"
            ]
          },
          "metadata": {},
          "execution_count": 260
        }
      ]
    },
    {
      "cell_type": "code",
      "source": [
        "from sklearn.metrics import mean_squared_error,mean_absolute_error\n",
        "mean_squared_error(ytest,ypred)"
      ],
      "metadata": {
        "colab": {
          "base_uri": "https://localhost:8080/"
        },
        "id": "qL5ui8047Vjw",
        "outputId": "5a591561-4745-4664-b3f1-0298195ea5f5"
      },
      "execution_count": 264,
      "outputs": [
        {
          "output_type": "execute_result",
          "data": {
            "text/plain": [
              "8.082817667620791"
            ]
          },
          "metadata": {},
          "execution_count": 264
        }
      ]
    },
    {
      "cell_type": "code",
      "source": [
        "mean_absolute_error(ytest,ypred)"
      ],
      "metadata": {
        "colab": {
          "base_uri": "https://localhost:8080/"
        },
        "id": "VjM-yoFU7b27",
        "outputId": "1b1716de-144d-4c6e-fb05-92fee36cb052"
      },
      "execution_count": 265,
      "outputs": [
        {
          "output_type": "execute_result",
          "data": {
            "text/plain": [
              "2.173677672079902"
            ]
          },
          "metadata": {},
          "execution_count": 265
        }
      ]
    },
    {
      "cell_type": "code",
      "source": [
        "r2_score(ytest,ypred)*100"
      ],
      "metadata": {
        "colab": {
          "base_uri": "https://localhost:8080/"
        },
        "id": "_rb4zNiD8DmU",
        "outputId": "9ad8c891-7431-4412-f4c4-b837b1d5771c"
      },
      "execution_count": 268,
      "outputs": [
        {
          "output_type": "execute_result",
          "data": {
            "text/plain": [
              "76.67845925432542"
            ]
          },
          "metadata": {},
          "execution_count": 268
        }
      ]
    },
    {
      "cell_type": "code",
      "source": [],
      "metadata": {
        "id": "4YSiql1x8LEf"
      },
      "execution_count": null,
      "outputs": []
    }
  ]
}